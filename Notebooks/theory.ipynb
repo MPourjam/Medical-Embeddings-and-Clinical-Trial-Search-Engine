{
 "cells": [
  {
   "cell_type": "markdown",
   "id": "13f5faa0-87b2-443d-9849-71db1308eec5",
   "metadata": {},
   "source": [
    "# Theory"
   ]
  },
  {
   "cell_type": "markdown",
   "id": "07859ebd-9db0-430e-bf5a-93c78eb0d4b9",
   "metadata": {},
   "source": [
    "## **<a href=\"https://machinelearningmastery.com/what-are-word-embeddings/\">What is Word Embedding?</a>**"
   ]
  },
  {
   "cell_type": "markdown",
   "id": "e552c227-ae8e-43fd-9320-45f1f159934e",
   "metadata": {},
   "source": [
    "- **<a href=\"https://en.wikipedia.org/wiki/Word_embedding\">Word embedding - Wiki</a>**\n",
    "    \n",
    "    - *In NLP, a word embedding is a representation of a word. The embedding is used in text analysis. Typically, the representation is a real-valued vector that encodes the meaning of the word in such a way that words that are closer in the vector space are expected to be similar in meaning.*\n",
    "\n",
    "    - *Word embeddings can be obtained using language modeling and feature learning techniques, where words or phrases from the vocabulary are mapped to vectors of real numbers.*\n",
    "\n",
    "    - *Word embeddings is a techinque used to convert words into features where loss of context b/w diff. words is minimal.*\n",
    "    \n",
    "    \n",
    "- **<a href=\"https://machinelearningmastery.com/what-are-word-embeddings/\">Word Embedding Algorithms - machinelearningmastery.com</a>**\n",
    "\n",
    "    - Word embedding methods learn a real-valued vector representation for a predefined fixed sized vocabulary from a corpus of text.\n",
    "\n",
    "    - The learning process is either joint with the neural network model on some task, such as document classification, or is an unsupervised process, using document statistics.\n",
    "    \n",
    "    - 3 techniques that can be used to learn a word embedding from text data:\n",
    "        1. **Embedding Layers**\n",
    "        2. **Word2Vec**\n",
    "        3. **GloVe**\n",
    "        \n",
    "* **"
   ]
  },
  {
   "cell_type": "markdown",
   "id": "fab1968f-5f6e-49ce-9f4d-af93908098c7",
   "metadata": {},
   "source": [
    "- **What is Medical Word Embedding & Why do we need custom word emebeddings?**\n",
    "\n",
    "    - *General word embeddings might not perform well enough on all the domains. We need to build domain specific embeddings to get better outcomes.*\n",
    "    \n",
    "    - Eg: <a href=\"https://github.com/ncbi-nlp/BioSentVec\">Pre-Trained Embeddings for Biomedical Words and Sentences</a>\n",
    "    \n",
    "    - We need domain specific word embeddings because a general word emebedding trained on general text data might not capture the context of words w.r.to our domain specific corpous of text.\n",
    "    \n",
    "* **\n",
    "\n",
    "<div align=\"center\">\n",
    "    <img src=\"images/word_embedding.jpg\"/>\n",
    "</div>\n",
    "\n",
    "* **"
   ]
  },
  {
   "cell_type": "markdown",
   "id": "3c8630c5-3d64-4f71-b8b5-0b8aa6cc2e01",
   "metadata": {},
   "source": [
    "## Word2Vec"
   ]
  },
  {
   "cell_type": "markdown",
   "id": "b27f7253-ed1d-42e6-a8c1-0a9078c62bce",
   "metadata": {},
   "source": [
    "#### **<a href=\"https://en.wikipedia.org/wiki/Word2vec\">Word2Vec - Wikipedia</a>**\n",
    "\n",
    "- Word2vec is a technique for NLP. The word2vec algorithm uses a neural network model to learn word associations from a large corpus of text. Once trained, such a model can detect synonymous words or suggest additional words for a partial sentence. As the name implies, word2vec represents each distinct word as a vector. The vectors are chosen carefully such that they capture the **semantic and syntactic qualities of words**; as such, a simple mathematical function (cosine similarity) can indicate the level of semantic similarity between the words represented by those vectors.\n",
    "    \n",
    "* **"
   ]
  },
  {
   "cell_type": "markdown",
   "id": "e0c827d0-26ef-4de8-b813-742cbee2c79c",
   "metadata": {},
   "source": [
    "#### <a href=\"https://thinkinfi.com/complete-guide-for-natural-language-processing-in-python/\">NLP: thinkinfi.com</a>\n",
    "\n",
    "- There are two main NLP techniques:\n",
    "    1. **Syntax Analysis**\n",
    "    2. **Semantic Analysis**\n",
    "\n",
    "1. **Syntax Analysis:** *It is also known as syntactic analysis. Syntax is the arrangement or positioning of words to make sentences grammatically correct or sensible. There are many different techniques to do Syntax Analysis such as:*\n",
    "\n",
    "   - Tokenization, POS tagging (Parts of speech tagging), Dependency Parsing, Stemming & Lemmatization, Stop word removal, TF-IDF, N-Grams\n",
    "   \n",
    "* **\n",
    "2. **Semantic Analysis:** *Semantic Analysis is used to identify the meaning of text. Semantic Analysis uses various NLP algorithms and techniques to understand meaning and structure of a sentence (or meaning of a word based on context).*\n",
    "\n",
    "    For example meaning of “apple” is completely different in below two sentences:\n",
    "    - iPhone is a product of Apple\n",
    "    - I eat apple every day.\n",
    "\n",
    "    You can understand topic of a text by doing Semantic Analysis of NLP.\n",
    "\n",
    "    For example an article containing words mobile, battery, touch screen, charging etc. can be labelled as “Mobile Phone”. Like above there are so many techniques and tasks involve in Semantic Analysis like:\n",
    "   - Named Entity Recognition (NER), Keyword Extraction, Topic Modelling, Word Relationship Extraction, Word Embedding, Text Similarity Matching, Word sense disambiguation\n",
    "* **"
   ]
  },
  {
   "cell_type": "markdown",
   "id": "0805b6f3-fa11-4474-980b-589bcefe7ac1",
   "metadata": {},
   "source": [
    "#### <a href=\"https://thinkinfi.com/word2vec-skip-gram-explained/\">Word2Vec: thinkinfi.com</a>\n",
    "\n",
    "- The main objective of Word2Vec is to generate vector representations of words that carry semantic meanings for further NLP tasks. Each word vector can have several hundred dimensions and each unique word in the corpus is assigned a vector in the space. For example, the word “man” can be represented as a vector of 4 dimensions ```[-1, 0.01, 0.03, 0.09]``` and “woman” can have a vector of ```[1, 0.02, 0.02, 0.01]```.\n",
    "\n",
    "- To implement Word2Vec, there are two flavors which are — \n",
    "    - **Continuous Bag-Of-Words(CBOW):** The CBOW model learns the embedding **by predicting the current word based on its context words(surrounding words)**.\n",
    "    \n",
    "    - **Continuous Skip-gram(SG):** The continuous skip-gram model learns **by predicting the context/surrounding words given a current word.** The opposite of CBOW.\n",
    "    \n",
    "    \n",
    "<div align=\"center\">\n",
    "    <img src=\"https://machinelearningmastery.com/wp-content/uploads/2017/08/Word2Vec-Training-Models.png\" width=\"500\"/>\n",
    "</div>\n",
    "\n",
    "\n",
    "#### Continuous Bag of Words (CBOW):\n",
    "\n",
    "It attempts to guess the output (target word) from its neighboring words (context words). You can think of it like fill in the blank task, where you need to guess word in place of blank by observing nearby words.\n",
    "\n",
    "<div align=\"center\">\n",
    "    <img src=\"https://thinkinfi.com/ezoimgfmt/1.bp.blogspot.com/-gjnDTyhZOmQ/XPDtkX8qtFI/AAAAAAAABtU/lxYFusQZd4UwT9E3aM_mgVj8ldFbYdcawCLcBGAs/s400/image001.png?ezimgfmt=rs:400x245/rscb1/ng:webp/ngcb1\" width=\"300\"/>\n",
    "</div>\n",
    "\n",
    "* **\n",
    "\n",
    "#### Continuous Skip-gram (SG):\n",
    "\n",
    "It guesses the **context words** from a **target word**. This is completely opposite task than CBOW. Where you have to guess which set of words can be nearby of a given word with a fixed window size. For below example skip gram model predicts word surrounding word with **window size 4** for given word “jump”\n",
    "\n",
    "<div align=\"center\">\n",
    "    <img src=\"https://thinkinfi.com/ezoimgfmt/1.bp.blogspot.com/-Vz5pLuZ49K8/XV0ErlMtdDI/AAAAAAAAB0A/FIM74z__LAUkCqpW12ViAnGX8Br56W2PQCEwYBhgL/s400/image001.png?ezimgfmt=rs:400x175/rscb1/ng:webp/ngcb1\" width=\"400\"/>\n",
    "</div>\n",
    "\n",
    "\n",
    "<table>\n",
    "  <tr>\n",
    "    <td> <img src=\"images\\word2vec_1.jpg\"  alt=\"1\" width = 500px>\n",
    "    <img src=\"images\\word2vec_2.jpg\" alt=\"2\" width = 500px></td>\n",
    "   </tr> \n",
    "</table>\n",
    "\n",
    "\n",
    "#### Links\n",
    "- <a href=\"https://thinkinfi.com/continuous-bag-of-words-cbow-single-word-model-how-it-works/\">Continuous Bag of Words (CBOW) – Single Word Model – How It Works</a>\n",
    "\n",
    "- <a href=\"https://thinkinfi.com/continuous-bag-of-words-cbow-multi-word-model-how-it-works/\">Continuous Bag of Words (CBOW) – Multi Word Model – How It Works</a>\n",
    "\n",
    "- <a href=\"https://thinkinfi.com/word2vec-skip-gram-explained/\">Word2Vec Skip gram Explained</a>"
   ]
  },
  {
   "cell_type": "markdown",
   "id": "bea01b6b-b46a-4400-b58e-0a4ad404fe22",
   "metadata": {},
   "source": [
    "### Idea Behind Word2Vec"
   ]
  },
  {
   "cell_type": "markdown",
   "id": "d0c5b37b-bb15-4ea0-847f-d153a20584f2",
   "metadata": {},
   "source": [
    "- The basic idea is that similar meaning words in a given corpous of text appear next to each other.\n",
    "\n",
    "<div align=\"center\">\n",
    "    <img src=\"https://www.samyzaf.com/ML/nlp/word2vec2.png\" width=\"600\"/>\n",
    "    <img src=\"https://miro.medium.com/v2/resize:fit:1400/1*OEmWDt4eztOcm5pr2QbxfA.png\" width=\"600\"/>\n",
    "</div>"
   ]
  },
  {
   "cell_type": "markdown",
   "id": "c1ddc174-0813-4e03-87ca-94b47b08a0fd",
   "metadata": {},
   "source": [
    "## Fast-text Model"
   ]
  },
  {
   "cell_type": "markdown",
   "id": "58fad906-f74b-4368-920f-2f125c947a51",
   "metadata": {},
   "source": [
    "- FastText is a modified version of word2vec (i.e.. Skip-Gram and CBOW). The only difference between fastText vs word2vec is it’s pooling strategies (what are the input, output, and dictionary of the model).\n",
    "\n",
    "- FastText differs in the sense that word vectors a.k.a word2vec treats every single word as the smallest unit whose vector representation is to be found but FastText assumes a word to be formed by a n-grams of character, for example, sunny is composed of ```[sun, sunn,sunny]```,```[sunny,unny,nny]```  etc, where ```n``` could range from 1 to the length of the word.\n",
    "\n",
    "- Advantages: \n",
    "\n",
    "    - It is helpful to find the vector representation for rare words. Since rare words could still be broken into character n-grams, they could share these n-grams with the common words. For example, for a model trained on a news dataset, the medical terms, eg: diseases, can be the rare words.\n",
    "    \n",
    "    - It can give the vector representations for the words not present in the dictionary (OOV words) since these can also be broken down into character n-grams. word2vec and glove both fail to provide any vector representations for words not in the dictionary/training data.\n",
    "    \n",
    "        - For example, for a word like ```stupedofantabulouslyfantastic```, which might never have been in any corpus, gensim might return any two of the following solutions – (a) a zero vector    or      (b) a random vector with low magnitude. But FastText can produce vectors better than random by breaking the above word in chunks and using the vectors for those chunks to create a final vector for the word. In this particular case, the final vector might be closer to the vectors of fantastic and fantabulous.\n",
    "          \n",
    "          \n",
    "    - Character n-grams embeddings tend to perform superior to word2vec and glove on smaller datasets."
   ]
  },
  {
   "cell_type": "markdown",
   "id": "66ea9235-445a-4ff7-893a-c3d71de4d48d",
   "metadata": {},
   "source": [
    "<div align=\"center\">\n",
    "    <img src=\"https://kavita-ganesan.com/wp-content/uploads/skipgram-vs-cbow-continuous-bag-of-words-word2vec-word-representation-1024x538.png\" width=\"600\"/>\n",
    "    <img src=\"https://kavita-ganesan.com/wp-content/uploads/fastText-vs.-Word2Vec.png\" width=\"600\"/>\n",
    "</div>"
   ]
  }
 ],
 "metadata": {
  "kernelspec": {
   "display_name": "Python 3 (ipykernel)",
   "language": "python",
   "name": "python3"
  },
  "language_info": {
   "codemirror_mode": {
    "name": "ipython",
    "version": 3
   },
   "file_extension": ".py",
   "mimetype": "text/x-python",
   "name": "python",
   "nbconvert_exporter": "python",
   "pygments_lexer": "ipython3",
   "version": "3.10.9"
  },
  "widgets": {
   "application/vnd.jupyter.widget-state+json": {
    "state": {},
    "version_major": 2,
    "version_minor": 0
   }
  }
 },
 "nbformat": 4,
 "nbformat_minor": 5
}
